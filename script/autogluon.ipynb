{
 "cells": [
  {
   "cell_type": "markdown",
   "id": "644cd894",
   "metadata": {},
   "source": [
    "# **AUTOGLUON : Robust and Accurate AutoML for Structured Data**"
   ]
  },
  {
   "cell_type": "markdown",
   "id": "de2b583d",
   "metadata": {},
   "source": [
    "## 00. **Source**"
   ]
  },
  {
   "cell_type": "markdown",
   "id": "2621b7cc",
   "metadata": {},
   "source": [
    "#### (1) **[API document](https://auto.gluon.ai/stable/index.html)**"
   ]
  },
  {
   "cell_type": "markdown",
   "id": "f44704f7",
   "metadata": {},
   "source": [
    "#### (2) **[paper](https://arxiv.org/pdf/2003.06505)**"
   ]
  },
  {
   "cell_type": "markdown",
   "id": "eb5adce1",
   "metadata": {},
   "source": [
    "<b></b>"
   ]
  },
  {
   "cell_type": "markdown",
   "id": "590d95e3",
   "metadata": {},
   "source": [
    "## 01. **Kinds of Predictors by dataset category**"
   ]
  },
  {
   "cell_type": "markdown",
   "id": "47ee6481",
   "metadata": {},
   "source": [
    "#### (1) **Tabular Predictor**"
   ]
  },
  {
   "cell_type": "markdown",
   "id": "01201177",
   "metadata": {},
   "source": [
    "#### (2) **Timeseries Predictor**"
   ]
  },
  {
   "cell_type": "markdown",
   "id": "fae6f003",
   "metadata": {},
   "source": [
    "#### (3) **Multimodal Predictor**"
   ]
  },
  {
   "cell_type": "markdown",
   "id": "66be5a84",
   "metadata": {},
   "source": [
    "<b></b>"
   ]
  },
  {
   "cell_type": "markdown",
   "id": "631b2032",
   "metadata": {},
   "source": [
    "## 02. **Tabular Predictor's Feature**"
   ]
  },
  {
   "cell_type": "markdown",
   "id": "f604e35c",
   "metadata": {},
   "source": [
    "#### (1) **데이터 전처리** :\n",
    "\n",
    "- 입력 데이터(feature data)를 연속형(float), 이산(정수, 범주형), 텍스트(문자로 이루어진 시퀀스들), 날짜/시간으로 분류 **(분류되지 않은 열은 제거)**\n",
    "\n",
    "- 텍스트 열의 값은 n-gram 특징 벡터로 변환 (TF-IDF method), 단 전체적으로 많이 발생하는 n-gram 특징 벡터만 존재시킴\n",
    "\n",
    "- 결측값 중 이산 변수를 처리하기 위해 `unknown` 카테고리를 추가 \n",
    "\n",
    "- 그 외 언급되지 않은 전처리는 개별 모델(약분류기)에 맞게 전처리"
   ]
  },
  {
   "cell_type": "markdown",
   "id": "a8c17116",
   "metadata": {},
   "source": [
    "#### (2) **개별 모델(약분류기) 학습 과정** :\n",
    "\n",
    "- **일반적으로 신뢰할 수 있는 모델(*)을 순차적으로 학습** \n",
    "\n",
    "$ \\hspace{0.6cm} $ (*) : 정형화 데이터에 잘 예측하는 의사결정나무 기반 모델들 우선함. 이후 DNN, KNN 순으로 학습\n",
    "\n",
    "- 특히 제약 조건, 시간 제한(`run_time_limit`)이 존재한다면, 후순위 모델은 학습되지 않을 수도 있음\n",
    "\n",
    "- 모델 별로 결측값을 추가로 처리함 \n",
    "\n",
    "- 특히 DNN 모델의 경우, 범주형 변수들은 관계를 고려하여 임베딩 벡터(고차원에서 저차원으로 연속적인 수치 벡터로 변환) 학습하여 처리\n",
    "\n",
    "<img src=\"../img/autogluon_fig01.png\" width=\"30%\" height=\"30%\"></img>"
   ]
  },
  {
   "cell_type": "markdown",
   "id": "d8f0c37f",
   "metadata": {},
   "source": [
    "#### (3) **앙상블(강분류기) 모델 학습 과정** :\n",
    "\n",
    "- 다양한 앙상블 기법(bagging, Stacking, Voting;Weighted Ensemble) 사용\n",
    "\n",
    "- 단 기존 스태킹과 달리, 모델 예측값($ \\hat{y} $) 외에도 **나머지 feature 데이터를 입력으로 투입**\n",
    "\n",
    "<img src=\"../img/autogluon_fig02.png\" width=\"30%\" height=\"30%\"></img>\n",
    "\n",
    "- k-fold 는 개별 모델에서 진행되며, 모두 같은 훈련 데이터 덩어리를 사용함\n",
    "\n",
    "- 나머지 feature 데이터란 k-fold에서 훈련데이터 덩어리를 제외한 검증용 덩어리를 의미함 (불확실)\n",
    "\n",
    "<img src=\"../img/autogluon_fig03.png\" width=\"30%\" height=\"30%\"></img>"
   ]
  },
  {
   "cell_type": "markdown",
   "id": "9af5c52e",
   "metadata": {},
   "source": [
    "#### (4) **예측 재현 관련** :\n",
    "\n",
    "- 일반적으로 난수 설정값(seed number)은 `0` 으로 고려되어있으나, **현재 메모리 여유량, 제한시간에 따라 성능이 차이날 수(재현이 불가 할 수) 있음**"
   ]
  },
  {
   "cell_type": "markdown",
   "id": "15949cff",
   "metadata": {},
   "source": [
    "<b></b>"
   ]
  },
  {
   "cell_type": "markdown",
   "id": "edeb9548",
   "metadata": {},
   "source": [
    "## 03. **Timeseries Predictor's Feature**"
   ]
  },
  {
   "cell_type": "markdown",
   "id": "b20a180c",
   "metadata": {},
   "source": [
    "#### (1) **[CONTENTS]**\n",
    "\n",
    "- **[CONTENTS]**"
   ]
  },
  {
   "cell_type": "markdown",
   "id": "b43a7b49",
   "metadata": {},
   "source": [
    "<b></b>"
   ]
  },
  {
   "cell_type": "markdown",
   "id": "461dfb42",
   "metadata": {},
   "source": [
    "## 04. **Multimodal Predictor's Feature**"
   ]
  },
  {
   "cell_type": "markdown",
   "id": "8000e313",
   "metadata": {},
   "source": [
    "#### (1) **[CONTENTS]**\n",
    "\n",
    "- **[CONTENTS]**"
   ]
  }
 ],
 "metadata": {
  "kaggle": {
   "accelerator": "none",
   "dataSources": [
    {
     "databundleVersionId": 9045607,
     "sourceId": 76727,
     "sourceType": "competition"
    },
    {
     "datasetId": 478,
     "sourceId": 974,
     "sourceType": "datasetVersion"
    }
   ],
   "isGpuEnabled": false,
   "isInternetEnabled": true,
   "language": "python",
   "sourceType": "notebook"
  },
  "kernelspec": {
   "display_name": "Python 3",
   "language": "python",
   "name": "python3"
  },
  "language_info": {
   "codemirror_mode": {
    "name": "ipython",
    "version": 3
   },
   "file_extension": ".py",
   "mimetype": "text/x-python",
   "name": "python",
   "nbconvert_exporter": "python",
   "pygments_lexer": "ipython3",
   "version": "3.10.13"
  },
  "papermill": {
   "default_parameters": {},
   "duration": 159.349778,
   "end_time": "2024-08-04T03:40:44.363345",
   "environment_variables": {},
   "exception": null,
   "input_path": "__notebook__.ipynb",
   "output_path": "__notebook__.ipynb",
   "parameters": {},
   "start_time": "2024-08-04T03:38:05.013567",
   "version": "2.5.0"
  }
 },
 "nbformat": 4,
 "nbformat_minor": 5
}
